{
 "cells": [
  {
   "cell_type": "code",
   "execution_count": 19,
   "id": "ac6aa99b",
   "metadata": {},
   "outputs": [],
   "source": [
    "import numpy as np\n",
    "from utils import batch_dirichlet"
   ]
  },
  {
   "cell_type": "code",
   "execution_count": 20,
   "id": "3b7478b4",
   "metadata": {},
   "outputs": [],
   "source": [
    "def is_pos_def_non_sim(M):\n",
    "    return np.all(np.linalg.eigvals(M) > 0)"
   ]
  },
  {
   "cell_type": "code",
   "execution_count": 21,
   "id": "827b7fc8",
   "metadata": {},
   "outputs": [],
   "source": [
    "def is_pos_def(A):\n",
    "    if np.array_equal(A, A.T):\n",
    "        try:\n",
    "            np.linalg.cholesky(A)\n",
    "            return True\n",
    "        except np.linalg.LinAlgError:\n",
    "            return False\n",
    "    else:\n",
    "        return is_pos_def_non_sim(A)"
   ]
  },
  {
   "cell_type": "code",
   "execution_count": 16,
   "id": "fe8f0e57",
   "metadata": {},
   "outputs": [],
   "source": [
    "n = 9\n",
    "d = 3"
   ]
  },
  {
   "cell_type": "code",
   "execution_count": 17,
   "id": "2963bb87",
   "metadata": {},
   "outputs": [],
   "source": [
    "Q = np.random.normal(size=(n*d,n*d))\n",
    "Q = -(Q@Q.T)\n",
    "F = np.random.normal(size=(n*d,1))"
   ]
  },
  {
   "cell_type": "code",
   "execution_count": 18,
   "id": "09a2339f",
   "metadata": {},
   "outputs": [],
   "source": [
    "M = (Q@Q.T) - F.T@(Q@Q.T)@F"
   ]
  },
  {
   "cell_type": "code",
   "execution_count": 7,
   "id": "2a9483e0",
   "metadata": {},
   "outputs": [
    {
     "data": {
      "text/plain": [
       "False"
      ]
     },
     "execution_count": 7,
     "metadata": {},
     "output_type": "execute_result"
    }
   ],
   "source": [
    "is_pos_def(M)"
   ]
  },
  {
   "cell_type": "code",
   "execution_count": 48,
   "id": "1c7e0cfa",
   "metadata": {},
   "outputs": [],
   "source": [
    "L = lambda n: n*np.eye(n) - np.ones((n,n))"
   ]
  },
  {
   "cell_type": "code",
   "execution_count": 49,
   "id": "797171ac",
   "metadata": {},
   "outputs": [
    {
     "data": {
      "text/plain": [
       "array([[ 3., -1., -1., -1.],\n",
       "       [-1.,  3., -1., -1.],\n",
       "       [-1., -1.,  3., -1.],\n",
       "       [-1., -1., -1.,  3.]])"
      ]
     },
     "execution_count": 49,
     "metadata": {},
     "output_type": "execute_result"
    }
   ],
   "source": [
    "L(4)"
   ]
  },
  {
   "cell_type": "code",
   "execution_count": 53,
   "id": "0863a7e9",
   "metadata": {},
   "outputs": [
    {
     "data": {
      "text/plain": [
       "array([[ 0.81649658, -0.57735027,  0.29329423],\n",
       "       [-0.40824829, -0.57735027, -0.80655913],\n",
       "       [-0.40824829, -0.57735027,  0.5132649 ]])"
      ]
     },
     "execution_count": 53,
     "metadata": {},
     "output_type": "execute_result"
    }
   ],
   "source": [
    "np.linalg.eig(L(3))[1]"
   ]
  },
  {
   "cell_type": "code",
   "execution_count": 29,
   "id": "d40fb5d8",
   "metadata": {},
   "outputs": [],
   "source": [
    "IoL = np.kron(np.eye(d),L(n))"
   ]
  },
  {
   "cell_type": "code",
   "execution_count": 31,
   "id": "b26fdfd4",
   "metadata": {},
   "outputs": [
    {
     "name": "stdout",
     "output_type": "stream",
     "text": [
      "4.063920969042374\n",
      "4.063920969042374\n",
      "4.063920969042374\n",
      "4.225178849234179\n",
      "4.225178849234179\n",
      "4.024809062791211\n",
      "4.024809062791211\n",
      "4.024809062791211\n",
      "4.233299816635698\n",
      "4.233299816635698\n",
      "4.233299816635698\n",
      "4.233299816635698\n",
      "4.233299816635698\n",
      "4.233299816635698\n",
      "4.233299816635698\n",
      "4.233299816635698\n",
      "4.233299816635698\n",
      "4.233299816635698\n",
      "4.233299816635698\n",
      "4.233299816635698\n",
      "4.233299816635698\n",
      "4.233299816635698\n",
      "4.233299816635698\n",
      "4.233299816635698\n",
      "4.2964366110750385\n",
      "4.2964366110750385\n",
      "4.2964366110750385\n"
     ]
    }
   ],
   "source": [
    "values = list(np.linalg.eig(IoL)[0])\n",
    "for w in sorted(values):\n",
    "    M=np.linalg.eig(IoL)[1][values.index(w)].reshape((n,d))[None,...]\n",
    "    print(batch_dirichlet(M)/np.linalg.norm(M[0,:,:],'fro')**2)"
   ]
  },
  {
   "cell_type": "code",
   "execution_count": 12,
   "id": "9761c7d9",
   "metadata": {},
   "outputs": [
    {
     "data": {
      "text/plain": [
       "[-1.5543122344752192e-15,\n",
       " -1.5543122344752192e-15,\n",
       " -1.5543122344752192e-15,\n",
       " 8.999999999999993,\n",
       " 8.999999999999993,\n",
       " 8.999999999999996,\n",
       " 8.999999999999996,\n",
       " 8.999999999999996,\n",
       " 9.0,\n",
       " 9.0,\n",
       " 9.0,\n",
       " 9.0,\n",
       " 9.0,\n",
       " 9.0,\n",
       " 9.0,\n",
       " 9.0,\n",
       " 9.0,\n",
       " 9.0,\n",
       " 9.0,\n",
       " 9.0,\n",
       " 9.0,\n",
       " 9.0,\n",
       " 9.0,\n",
       " 9.0,\n",
       " 9.000000000000002,\n",
       " 9.000000000000002,\n",
       " 9.000000000000002]"
      ]
     },
     "execution_count": 12,
     "metadata": {},
     "output_type": "execute_result"
    }
   ],
   "source": [
    "sorted(values)"
   ]
  },
  {
   "cell_type": "code",
   "execution_count": null,
   "id": "169f5a79",
   "metadata": {},
   "outputs": [],
   "source": []
  },
  {
   "cell_type": "code",
   "execution_count": null,
   "id": "bfe73270",
   "metadata": {},
   "outputs": [],
   "source": []
  }
 ],
 "metadata": {
  "kernelspec": {
   "display_name": "Python 3 (ipykernel)",
   "language": "python",
   "name": "python3"
  },
  "language_info": {
   "codemirror_mode": {
    "name": "ipython",
    "version": 3
   },
   "file_extension": ".py",
   "mimetype": "text/x-python",
   "name": "python",
   "nbconvert_exporter": "python",
   "pygments_lexer": "ipython3",
   "version": "3.10.9"
  }
 },
 "nbformat": 4,
 "nbformat_minor": 5
}
